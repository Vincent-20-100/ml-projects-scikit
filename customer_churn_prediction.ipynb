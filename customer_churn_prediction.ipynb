{
 "cells": [
  {
   "cell_type": "markdown",
   "id": "df02a1b8",
   "metadata": {
    "id": "df02a1b8"
   },
   "source": [
    "# Predict Greenweez Churners\n"
   ]
  },
  {
   "cell_type": "markdown",
   "id": "d13aab03",
   "metadata": {
    "ExecuteTime": {
     "end_time": "2022-11-27T16:48:36.870811Z",
     "start_time": "2022-11-27T16:48:36.841932Z"
    },
    "id": "d13aab03"
   },
   "source": [
    "We are going to look at the Greenweez client database!\n",
    "\n",
    "We want to identify which of our Greenweez customers will reconvert (make a second purchase) within 3 months.\n",
    "\n",
    "**Our data**: \n",
    "We have access to the sales from 2019 to 2021.\n",
    "Let's take a look\n"
   ]
  },
  {
   "cell_type": "markdown",
   "id": "36da60c0",
   "metadata": {
    "id": "36da60c0"
   },
   "source": [
    "## Data exploration\n"
   ]
  },
  {
   "cell_type": "code",
   "execution_count": null,
   "id": "a3489ddc",
   "metadata": {},
   "outputs": [],
   "source": [
    "import os\n",
    "\n",
    "# Charger le chemin depuis le fichier texte\n",
    "with open(\".path_repo.txt\", \"r\") as f:\n",
    "    path_repo = f.read().strip()\n",
    "\n",
    "os.chdir(path_repo)"
   ]
  },
  {
   "cell_type": "code",
   "execution_count": 2,
   "id": "acdd581b",
   "metadata": {
    "ExecuteTime": {
     "end_time": "2022-11-30T23:54:53.005053Z",
     "start_time": "2022-11-30T23:54:52.913884Z"
    },
    "id": "acdd581b"
   },
   "outputs": [
    {
     "name": "stderr",
     "output_type": "stream",
     "text": [
      "<>:3: SyntaxWarning: invalid escape sequence '\\g'\n",
      "<>:3: SyntaxWarning: invalid escape sequence '\\g'\n",
      "C:\\Users\\Vincent\\AppData\\Local\\Temp\\ipykernel_29852\\3738580745.py:3: SyntaxWarning: invalid escape sequence '\\g'\n",
      "  df = pd.read_csv('data\\gwz_churn.csv')\n"
     ]
    }
   ],
   "source": [
    "import pandas as pd\n",
    "\n",
    "df = pd.read_csv('data\\gwz_churn.csv')"
   ]
  },
  {
   "cell_type": "code",
   "execution_count": 3,
   "id": "514458ab",
   "metadata": {
    "ExecuteTime": {
     "end_time": "2022-11-30T23:55:12.438443Z",
     "start_time": "2022-11-30T23:55:12.425133Z"
    },
    "colab": {
     "base_uri": "https://localhost:8080/",
     "height": 226
    },
    "executionInfo": {
     "elapsed": 30,
     "status": "ok",
     "timestamp": 1708610967530,
     "user": {
      "displayName": "Evangelina De Luca",
      "userId": "14686827559106754906"
     },
     "user_tz": -60
    },
    "id": "514458ab",
    "outputId": "a85b03ee-eb07-48f1-b8ab-f9297d03423f",
    "scrolled": true
   },
   "outputs": [
    {
     "data": {
      "text/html": [
       "<div>\n",
       "<style scoped>\n",
       "    .dataframe tbody tr th:only-of-type {\n",
       "        vertical-align: middle;\n",
       "    }\n",
       "\n",
       "    .dataframe tbody tr th {\n",
       "        vertical-align: top;\n",
       "    }\n",
       "\n",
       "    .dataframe thead th {\n",
       "        text-align: right;\n",
       "    }\n",
       "</style>\n",
       "<table border=\"1\" class=\"dataframe\">\n",
       "  <thead>\n",
       "    <tr style=\"text-align: right;\">\n",
       "      <th></th>\n",
       "      <th>date_date</th>\n",
       "      <th>orders_id</th>\n",
       "      <th>customers_id</th>\n",
       "      <th>nb_past_orders</th>\n",
       "      <th>avg_basket</th>\n",
       "      <th>total_purchase_cost</th>\n",
       "      <th>avg_quantity</th>\n",
       "      <th>total_quantity</th>\n",
       "      <th>nb_days_since_last_order</th>\n",
       "      <th>avg_nb_unique_products</th>\n",
       "      <th>total_nb_codes</th>\n",
       "      <th>re_purchase</th>\n",
       "    </tr>\n",
       "  </thead>\n",
       "  <tbody>\n",
       "    <tr>\n",
       "      <th>0</th>\n",
       "      <td>2021-03-08</td>\n",
       "      <td>797405</td>\n",
       "      <td>207754</td>\n",
       "      <td>3</td>\n",
       "      <td>65.456667</td>\n",
       "      <td>196.37</td>\n",
       "      <td>29.333333</td>\n",
       "      <td>88</td>\n",
       "      <td>0</td>\n",
       "      <td>23.000000</td>\n",
       "      <td>1</td>\n",
       "      <td>0</td>\n",
       "    </tr>\n",
       "    <tr>\n",
       "      <th>1</th>\n",
       "      <td>2021-06-23</td>\n",
       "      <td>914331</td>\n",
       "      <td>229390</td>\n",
       "      <td>2</td>\n",
       "      <td>84.650000</td>\n",
       "      <td>169.30</td>\n",
       "      <td>40.000000</td>\n",
       "      <td>80</td>\n",
       "      <td>0</td>\n",
       "      <td>34.500000</td>\n",
       "      <td>1</td>\n",
       "      <td>0</td>\n",
       "    </tr>\n",
       "    <tr>\n",
       "      <th>2</th>\n",
       "      <td>2021-04-27</td>\n",
       "      <td>857750</td>\n",
       "      <td>4921</td>\n",
       "      <td>3</td>\n",
       "      <td>48.343333</td>\n",
       "      <td>145.03</td>\n",
       "      <td>20.000000</td>\n",
       "      <td>60</td>\n",
       "      <td>0</td>\n",
       "      <td>11.666667</td>\n",
       "      <td>1</td>\n",
       "      <td>1</td>\n",
       "    </tr>\n",
       "    <tr>\n",
       "      <th>3</th>\n",
       "      <td>2021-02-28</td>\n",
       "      <td>786589</td>\n",
       "      <td>10797</td>\n",
       "      <td>8</td>\n",
       "      <td>74.970000</td>\n",
       "      <td>599.76</td>\n",
       "      <td>26.500000</td>\n",
       "      <td>212</td>\n",
       "      <td>0</td>\n",
       "      <td>20.750000</td>\n",
       "      <td>8</td>\n",
       "      <td>1</td>\n",
       "    </tr>\n",
       "    <tr>\n",
       "      <th>4</th>\n",
       "      <td>2021-06-08</td>\n",
       "      <td>901782</td>\n",
       "      <td>116681</td>\n",
       "      <td>3</td>\n",
       "      <td>62.113333</td>\n",
       "      <td>186.34</td>\n",
       "      <td>16.666667</td>\n",
       "      <td>50</td>\n",
       "      <td>0</td>\n",
       "      <td>9.333333</td>\n",
       "      <td>1</td>\n",
       "      <td>0</td>\n",
       "    </tr>\n",
       "  </tbody>\n",
       "</table>\n",
       "</div>"
      ],
      "text/plain": [
       "    date_date  orders_id  customers_id  nb_past_orders  avg_basket  \\\n",
       "0  2021-03-08     797405        207754               3   65.456667   \n",
       "1  2021-06-23     914331        229390               2   84.650000   \n",
       "2  2021-04-27     857750          4921               3   48.343333   \n",
       "3  2021-02-28     786589         10797               8   74.970000   \n",
       "4  2021-06-08     901782        116681               3   62.113333   \n",
       "\n",
       "   total_purchase_cost  avg_quantity  total_quantity  \\\n",
       "0               196.37     29.333333              88   \n",
       "1               169.30     40.000000              80   \n",
       "2               145.03     20.000000              60   \n",
       "3               599.76     26.500000             212   \n",
       "4               186.34     16.666667              50   \n",
       "\n",
       "   nb_days_since_last_order  avg_nb_unique_products  total_nb_codes  \\\n",
       "0                         0               23.000000               1   \n",
       "1                         0               34.500000               1   \n",
       "2                         0               11.666667               1   \n",
       "3                         0               20.750000               8   \n",
       "4                         0                9.333333               1   \n",
       "\n",
       "   re_purchase  \n",
       "0            0  \n",
       "1            0  \n",
       "2            1  \n",
       "3            1  \n",
       "4            0  "
      ]
     },
     "execution_count": 3,
     "metadata": {},
     "output_type": "execute_result"
    }
   ],
   "source": [
    "df.head()"
   ]
  },
  {
   "cell_type": "code",
   "execution_count": 4,
   "id": "25dfd4a6",
   "metadata": {
    "ExecuteTime": {
     "end_time": "2022-11-30T23:55:12.460004Z",
     "start_time": "2022-11-30T23:55:12.443277Z"
    },
    "colab": {
     "base_uri": "https://localhost:8080/"
    },
    "executionInfo": {
     "elapsed": 26,
     "status": "ok",
     "timestamp": 1708610967530,
     "user": {
      "displayName": "Evangelina De Luca",
      "userId": "14686827559106754906"
     },
     "user_tz": -60
    },
    "id": "25dfd4a6",
    "outputId": "d0e7ab28-6fec-4ce9-f435-063eaa46c623"
   },
   "outputs": [
    {
     "data": {
      "text/plain": [
       "(83001, 12)"
      ]
     },
     "execution_count": 4,
     "metadata": {},
     "output_type": "execute_result"
    }
   ],
   "source": [
    "df.shape"
   ]
  },
  {
   "cell_type": "code",
   "execution_count": 5,
   "id": "a54bb5d4",
   "metadata": {
    "ExecuteTime": {
     "end_time": "2022-11-30T23:55:12.499203Z",
     "start_time": "2022-11-30T23:55:12.462719Z"
    },
    "colab": {
     "base_uri": "https://localhost:8080/"
    },
    "executionInfo": {
     "elapsed": 21,
     "status": "ok",
     "timestamp": 1708610967530,
     "user": {
      "displayName": "Evangelina De Luca",
      "userId": "14686827559106754906"
     },
     "user_tz": -60
    },
    "id": "a54bb5d4",
    "outputId": "afce0273-be4f-49f5-a6ce-43528556f409"
   },
   "outputs": [
    {
     "data": {
      "text/plain": [
       "date_date                   0\n",
       "orders_id                   0\n",
       "customers_id                0\n",
       "nb_past_orders              0\n",
       "avg_basket                  0\n",
       "total_purchase_cost         0\n",
       "avg_quantity                0\n",
       "total_quantity              0\n",
       "nb_days_since_last_order    0\n",
       "avg_nb_unique_products      0\n",
       "total_nb_codes              0\n",
       "re_purchase                 0\n",
       "dtype: int64"
      ]
     },
     "execution_count": 5,
     "metadata": {},
     "output_type": "execute_result"
    }
   ],
   "source": [
    "df.isnull().sum()"
   ]
  },
  {
   "cell_type": "markdown",
   "id": "Rg0ZOtuEHEDh",
   "metadata": {
    "id": "Rg0ZOtuEHEDh"
   },
   "source": [
    "The target is the `re_purchase` column, and the other columns will be your features.    \n",
    "There are no null values in data. \n",
    "Orders_id is not useful in this case! It is the unique identifier for the Greenweez database, but doesn't provide any info that we use to predict reconversions. So let's delete it.\n",
    "Then make `customers_id` our index."
   ]
  },
  {
   "cell_type": "code",
   "execution_count": 6,
   "id": "vmF8UdegHgXk",
   "metadata": {
    "id": "vmF8UdegHgXk"
   },
   "outputs": [],
   "source": [
    "df = df.drop(columns=['date_date', 'orders_id'])\n",
    "df = df.set_index('customers_id')"
   ]
  },
  {
   "cell_type": "code",
   "execution_count": 7,
   "id": "_IxfqLGML1tx",
   "metadata": {
    "colab": {
     "base_uri": "https://localhost:8080/",
     "height": 300
    },
    "executionInfo": {
     "elapsed": 431,
     "status": "ok",
     "timestamp": 1708610967942,
     "user": {
      "displayName": "Evangelina De Luca",
      "userId": "14686827559106754906"
     },
     "user_tz": -60
    },
    "id": "_IxfqLGML1tx",
    "outputId": "bbff8884-b952-41e6-9e8d-144c2788a602"
   },
   "outputs": [
    {
     "data": {
      "text/html": [
       "<div>\n",
       "<style scoped>\n",
       "    .dataframe tbody tr th:only-of-type {\n",
       "        vertical-align: middle;\n",
       "    }\n",
       "\n",
       "    .dataframe tbody tr th {\n",
       "        vertical-align: top;\n",
       "    }\n",
       "\n",
       "    .dataframe thead th {\n",
       "        text-align: right;\n",
       "    }\n",
       "</style>\n",
       "<table border=\"1\" class=\"dataframe\">\n",
       "  <thead>\n",
       "    <tr style=\"text-align: right;\">\n",
       "      <th></th>\n",
       "      <th>nb_past_orders</th>\n",
       "      <th>avg_basket</th>\n",
       "      <th>total_purchase_cost</th>\n",
       "      <th>avg_quantity</th>\n",
       "      <th>total_quantity</th>\n",
       "      <th>nb_days_since_last_order</th>\n",
       "      <th>avg_nb_unique_products</th>\n",
       "      <th>total_nb_codes</th>\n",
       "      <th>re_purchase</th>\n",
       "    </tr>\n",
       "  </thead>\n",
       "  <tbody>\n",
       "    <tr>\n",
       "      <th>count</th>\n",
       "      <td>83001.000000</td>\n",
       "      <td>83001.000000</td>\n",
       "      <td>83001.000000</td>\n",
       "      <td>83001.000000</td>\n",
       "      <td>83001.000000</td>\n",
       "      <td>83001.0</td>\n",
       "      <td>83001.000000</td>\n",
       "      <td>83001.00000</td>\n",
       "      <td>83001.000000</td>\n",
       "    </tr>\n",
       "    <tr>\n",
       "      <th>mean</th>\n",
       "      <td>3.829665</td>\n",
       "      <td>77.060981</td>\n",
       "      <td>299.639037</td>\n",
       "      <td>24.286865</td>\n",
       "      <td>89.500247</td>\n",
       "      <td>0.0</td>\n",
       "      <td>15.525088</td>\n",
       "      <td>1.09183</td>\n",
       "      <td>0.789990</td>\n",
       "    </tr>\n",
       "    <tr>\n",
       "      <th>std</th>\n",
       "      <td>3.293747</td>\n",
       "      <td>51.518224</td>\n",
       "      <td>568.894134</td>\n",
       "      <td>17.755512</td>\n",
       "      <td>131.059237</td>\n",
       "      <td>0.0</td>\n",
       "      <td>10.053144</td>\n",
       "      <td>2.77507</td>\n",
       "      <td>0.407317</td>\n",
       "    </tr>\n",
       "    <tr>\n",
       "      <th>min</th>\n",
       "      <td>1.000000</td>\n",
       "      <td>1.534000</td>\n",
       "      <td>4.720000</td>\n",
       "      <td>1.100000</td>\n",
       "      <td>4.000000</td>\n",
       "      <td>0.0</td>\n",
       "      <td>1.081081</td>\n",
       "      <td>0.00000</td>\n",
       "      <td>0.000000</td>\n",
       "    </tr>\n",
       "    <tr>\n",
       "      <th>25%</th>\n",
       "      <td>3.000000</td>\n",
       "      <td>50.770000</td>\n",
       "      <td>136.550000</td>\n",
       "      <td>13.000000</td>\n",
       "      <td>36.000000</td>\n",
       "      <td>0.0</td>\n",
       "      <td>7.666667</td>\n",
       "      <td>0.00000</td>\n",
       "      <td>1.000000</td>\n",
       "    </tr>\n",
       "    <tr>\n",
       "      <th>50%</th>\n",
       "      <td>3.000000</td>\n",
       "      <td>68.763333</td>\n",
       "      <td>214.370000</td>\n",
       "      <td>22.000000</td>\n",
       "      <td>63.000000</td>\n",
       "      <td>0.0</td>\n",
       "      <td>14.333333</td>\n",
       "      <td>0.00000</td>\n",
       "      <td>1.000000</td>\n",
       "    </tr>\n",
       "    <tr>\n",
       "      <th>75%</th>\n",
       "      <td>4.000000</td>\n",
       "      <td>92.600000</td>\n",
       "      <td>337.700000</td>\n",
       "      <td>31.000000</td>\n",
       "      <td>106.000000</td>\n",
       "      <td>0.0</td>\n",
       "      <td>21.666667</td>\n",
       "      <td>1.00000</td>\n",
       "      <td>1.000000</td>\n",
       "    </tr>\n",
       "    <tr>\n",
       "      <th>max</th>\n",
       "      <td>61.000000</td>\n",
       "      <td>4726.440000</td>\n",
       "      <td>22738.110000</td>\n",
       "      <td>1164.000000</td>\n",
       "      <td>3557.000000</td>\n",
       "      <td>0.0</td>\n",
       "      <td>163.000000</td>\n",
       "      <td>57.00000</td>\n",
       "      <td>1.000000</td>\n",
       "    </tr>\n",
       "  </tbody>\n",
       "</table>\n",
       "</div>"
      ],
      "text/plain": [
       "       nb_past_orders    avg_basket  total_purchase_cost  avg_quantity  \\\n",
       "count    83001.000000  83001.000000         83001.000000  83001.000000   \n",
       "mean         3.829665     77.060981           299.639037     24.286865   \n",
       "std          3.293747     51.518224           568.894134     17.755512   \n",
       "min          1.000000      1.534000             4.720000      1.100000   \n",
       "25%          3.000000     50.770000           136.550000     13.000000   \n",
       "50%          3.000000     68.763333           214.370000     22.000000   \n",
       "75%          4.000000     92.600000           337.700000     31.000000   \n",
       "max         61.000000   4726.440000         22738.110000   1164.000000   \n",
       "\n",
       "       total_quantity  nb_days_since_last_order  avg_nb_unique_products  \\\n",
       "count    83001.000000                   83001.0            83001.000000   \n",
       "mean        89.500247                       0.0               15.525088   \n",
       "std        131.059237                       0.0               10.053144   \n",
       "min          4.000000                       0.0                1.081081   \n",
       "25%         36.000000                       0.0                7.666667   \n",
       "50%         63.000000                       0.0               14.333333   \n",
       "75%        106.000000                       0.0               21.666667   \n",
       "max       3557.000000                       0.0              163.000000   \n",
       "\n",
       "       total_nb_codes   re_purchase  \n",
       "count     83001.00000  83001.000000  \n",
       "mean          1.09183      0.789990  \n",
       "std           2.77507      0.407317  \n",
       "min           0.00000      0.000000  \n",
       "25%           0.00000      1.000000  \n",
       "50%           0.00000      1.000000  \n",
       "75%           1.00000      1.000000  \n",
       "max          57.00000      1.000000  "
      ]
     },
     "execution_count": 7,
     "metadata": {},
     "output_type": "execute_result"
    }
   ],
   "source": [
    "df.describe()"
   ]
  },
  {
   "cell_type": "markdown",
   "id": "fe4da756",
   "metadata": {
    "id": "fe4da756"
   },
   "source": [
    "Apparently some of the data is **already preprocessed**.\n",
    "\n",
    "We're working on a relatively clean database, with our targets and features already formed. \n",
    "\n",
    "It is not a real-world situation, I know that 😅"
   ]
  },
  {
   "cell_type": "markdown",
   "id": "57c4841f",
   "metadata": {
    "id": "57c4841f"
   },
   "source": [
    "## Modeling"
   ]
  },
  {
   "cell_type": "markdown",
   "id": "bc8197ad",
   "metadata": {
    "id": "bc8197ad"
   },
   "source": [
    "Now that we've seen what our data looks like, we need to define our target and features."
   ]
  },
  {
   "cell_type": "code",
   "execution_count": 8,
   "id": "6ed0545e",
   "metadata": {
    "ExecuteTime": {
     "end_time": "2022-11-30T23:55:12.800730Z",
     "start_time": "2022-11-30T23:55:12.758892Z"
    },
    "id": "6ed0545e"
   },
   "outputs": [],
   "source": [
    "from sklearn.model_selection import train_test_split\n",
    "\n",
    "# every columns except re_purchase which is our target\n",
    "X = df.drop(columns='re_purchase')\n",
    "y = df['re_purchase']\n",
    "\n",
    "# split data\n",
    "X_train, X_test, y_train, y_test = train_test_split(X, y, test_size=0.2, random_state=1)\n",
    "\n",
    "# store customers_ids for after\n",
    "test_customers_ids = X_test.index"
   ]
  },
  {
   "cell_type": "markdown",
   "id": "e_0jFfe1Mbtu",
   "metadata": {
    "id": "e_0jFfe1Mbtu"
   },
   "source": [
    "Let's fit our model!"
   ]
  },
  {
   "cell_type": "code",
   "execution_count": 9,
   "id": "RfYoK3VcLlOa",
   "metadata": {
    "id": "RfYoK3VcLlOa"
   },
   "outputs": [],
   "source": [
    "from sklearn.preprocessing import StandardScaler\n",
    "\n",
    "scaler = StandardScaler()\n",
    "X_train = scaler.fit_transform(X_train)\n",
    "\n",
    "# apply same transformation on X_test\n",
    "X_test = scaler.transform(X_test)"
   ]
  },
  {
   "cell_type": "code",
   "execution_count": 10,
   "id": "UKWxRt-_OSwX",
   "metadata": {
    "colab": {
     "base_uri": "https://localhost:8080/",
     "height": 52
    },
    "executionInfo": {
     "elapsed": 11,
     "status": "ok",
     "timestamp": 1708610968847,
     "user": {
      "displayName": "Evangelina De Luca",
      "userId": "14686827559106754906"
     },
     "user_tz": -60
    },
    "id": "UKWxRt-_OSwX",
    "outputId": "911bbf81-d204-416e-b8b4-11de2ac68556"
   },
   "outputs": [
    {
     "data": {
      "text/plain": [
       "numpy.ndarray"
      ]
     },
     "metadata": {},
     "output_type": "display_data"
    },
    {
     "data": {
      "text/plain": [
       "numpy.ndarray"
      ]
     },
     "metadata": {},
     "output_type": "display_data"
    }
   ],
   "source": [
    "display(type(X_train), type(X_test))"
   ]
  },
  {
   "cell_type": "markdown",
   "id": "b11967a8",
   "metadata": {
    "id": "b11967a8"
   },
   "source": [
    "Now we can calculate the score for a dumb model."
   ]
  },
  {
   "cell_type": "code",
   "execution_count": 11,
   "id": "bde332e1",
   "metadata": {
    "colab": {
     "base_uri": "https://localhost:8080/"
    },
    "executionInfo": {
     "elapsed": 9,
     "status": "ok",
     "timestamp": 1708610968847,
     "user": {
      "displayName": "Evangelina De Luca",
      "userId": "14686827559106754906"
     },
     "user_tz": -60
    },
    "id": "bde332e1",
    "outputId": "9064f3b2-3fd4-467d-fb67-ff1e157e6db3"
   },
   "outputs": [
    {
     "name": "stdout",
     "output_type": "stream",
     "text": [
      "Baseline accuracy is 0.79\n"
     ]
    }
   ],
   "source": [
    "import numpy as np\n",
    "from sklearn.metrics import accuracy_score\n",
    "\n",
    "baseline_y_pred = pd.Series(np.ones([16601]))\n",
    "\n",
    "baseline_accuracy = accuracy_score(y_test, baseline_y_pred)\n",
    "\n",
    "print(f\"Baseline accuracy is {round(baseline_accuracy,2)}\")"
   ]
  },
  {
   "cell_type": "markdown",
   "id": "2929ac14",
   "metadata": {
    "id": "2929ac14"
   },
   "source": [
    "Now that we have a baseline, even if it's poor, we will try to surpass it!"
   ]
  },
  {
   "cell_type": "markdown",
   "id": "fdc5627a",
   "metadata": {
    "id": "fdc5627a"
   },
   "source": [
    "Let's build our first model now!\n",
    "\n",
    "We will use a simple logistic regression model."
   ]
  },
  {
   "cell_type": "code",
   "execution_count": 12,
   "id": "dMS02onvNM9m",
   "metadata": {
    "id": "dMS02onvNM9m"
   },
   "outputs": [],
   "source": [
    "from sklearn.linear_model import LogisticRegression\n",
    "\n",
    "# train model\n",
    "LogisticReg = LogisticRegression()\n",
    "LogisticReg.fit(X_train, y_train)\n",
    "\n",
    "# store predictions\n",
    "y_pred = LogisticReg.predict(X_test)"
   ]
  },
  {
   "cell_type": "code",
   "execution_count": 13,
   "id": "nWIMCAwanK-b",
   "metadata": {
    "colab": {
     "base_uri": "https://localhost:8080/"
    },
    "executionInfo": {
     "elapsed": 6,
     "status": "ok",
     "timestamp": 1708610969946,
     "user": {
      "displayName": "Evangelina De Luca",
      "userId": "14686827559106754906"
     },
     "user_tz": -60
    },
    "id": "nWIMCAwanK-b",
    "outputId": "5504717f-ff16-4264-ec88-524121324b20"
   },
   "outputs": [
    {
     "name": "stdout",
     "output_type": "stream",
     "text": [
      "test data accuracy = 0.807\n"
     ]
    }
   ],
   "source": [
    "accuracy_test = LogisticReg.score(X_test, y_test)\n",
    "\n",
    "print(f\"test data accuracy = {round(accuracy_test, 3)}\")\n"
   ]
  },
  {
   "cell_type": "markdown",
   "id": "qOE7_12CRNZU",
   "metadata": {
    "id": "qOE7_12CRNZU"
   },
   "source": [
    "Accuracy is one way to judge model performance, but plotting a confusion matrix on the test data can be more informative. This is because you can calculate additional metrics from this matrix!"
   ]
  },
  {
   "cell_type": "code",
   "execution_count": 20,
   "id": "LjPgzNyoSJJg",
   "metadata": {
    "colab": {
     "base_uri": "https://localhost:8080/",
     "height": 449
    },
    "executionInfo": {
     "elapsed": 357,
     "status": "ok",
     "timestamp": 1708610970300,
     "user": {
      "displayName": "Evangelina De Luca",
      "userId": "14686827559106754906"
     },
     "user_tz": -60
    },
    "id": "LjPgzNyoSJJg",
    "outputId": "3f0e210c-8a0a-4efa-fc8a-9ed665241731"
   },
   "outputs": [
    {
     "data": {
      "image/png": "[encoded data removed]",
      "text/plain": [
       "<Figure size 640x480 with 2 Axes>"
      ]
     },
     "metadata": {},
     "output_type": "display_data"
    }
   ],
   "source": [
    "from sklearn.metrics import ConfusionMatrixDisplay\n",
    "\n",
    "confusion_matrix = ConfusionMatrixDisplay.from_estimator(LogisticReg, X_test, y_test,labels=[1, 0])"
   ]
  },
  {
   "cell_type": "markdown",
   "id": "noqXVMq4XI87",
   "metadata": {
    "id": "noqXVMq4XI87"
   },
   "source": [
    "From our confusion matrix and the below picture, calculate precision, recall and accuracy : \n",
    "- precision: 23142 / (23142 + 7269) = 23142 / 30411 = 75.94%\n",
    "- recall: 23142 / (13150 + 23142) = 23142 / 36292 = 63.77%\n",
    "- accuracy: (32719 + 23142) / 76280 = 55861 / 76280 = 73.23%\n"
   ]
  },
  {
   "cell_type": "markdown",
   "id": "kgH4yzoMbV38",
   "metadata": {
    "id": "kgH4yzoMbV38"
   },
   "source": [
    "Let's calculate the percent of churners your model correctly detected :\\\n",
    "    number_churners_correctly_detected / number_of_churners = 32719 / (32719 + 7269) = 32504 / 39988 = 81.82%\n",
    "\n",
    "Not bad at all, we have now a model to identify 81.82% of churners :)"
   ]
  },
  {
   "cell_type": "markdown",
   "id": "5f56f89f",
   "metadata": {},
   "source": [
    "### We can now get the probability to repurchase or not (column not churner)"
   ]
  },
  {
   "cell_type": "code",
   "execution_count": 15,
   "id": "7YDRQcI3cicH",
   "metadata": {
    "colab": {
     "base_uri": "https://localhost:8080/",
     "height": 455
    },
    "executionInfo": {
     "elapsed": 540,
     "status": "ok",
     "timestamp": 1708610970836,
     "user": {
      "displayName": "Evangelina De Luca",
      "userId": "14686827559106754906"
     },
     "user_tz": -60
    },
    "id": "7YDRQcI3cicH",
    "outputId": "4c0ef8ef-76af-482c-bbe5-6c1635435043"
   },
   "outputs": [
    {
     "data": {
      "text/html": [
       "<div>\n",
       "<style scoped>\n",
       "    .dataframe tbody tr th:only-of-type {\n",
       "        vertical-align: middle;\n",
       "    }\n",
       "\n",
       "    .dataframe tbody tr th {\n",
       "        vertical-align: top;\n",
       "    }\n",
       "\n",
       "    .dataframe thead th {\n",
       "        text-align: right;\n",
       "    }\n",
       "</style>\n",
       "<table border=\"1\" class=\"dataframe\">\n",
       "  <thead>\n",
       "    <tr style=\"text-align: right;\">\n",
       "      <th></th>\n",
       "      <th>Churner</th>\n",
       "      <th>Not churner</th>\n",
       "    </tr>\n",
       "    <tr>\n",
       "      <th>customers_id</th>\n",
       "      <th></th>\n",
       "      <th></th>\n",
       "    </tr>\n",
       "  </thead>\n",
       "  <tbody>\n",
       "    <tr>\n",
       "      <th>72404</th>\n",
       "      <td>0.245935</td>\n",
       "      <td>0.754065</td>\n",
       "    </tr>\n",
       "    <tr>\n",
       "      <th>6385</th>\n",
       "      <td>0.520757</td>\n",
       "      <td>0.479243</td>\n",
       "    </tr>\n",
       "    <tr>\n",
       "      <th>212336</th>\n",
       "      <td>0.280575</td>\n",
       "      <td>0.719425</td>\n",
       "    </tr>\n",
       "    <tr>\n",
       "      <th>258775</th>\n",
       "      <td>0.229754</td>\n",
       "      <td>0.770246</td>\n",
       "    </tr>\n",
       "    <tr>\n",
       "      <th>65390</th>\n",
       "      <td>0.361772</td>\n",
       "      <td>0.638228</td>\n",
       "    </tr>\n",
       "    <tr>\n",
       "      <th>...</th>\n",
       "      <td>...</td>\n",
       "      <td>...</td>\n",
       "    </tr>\n",
       "    <tr>\n",
       "      <th>216278</th>\n",
       "      <td>0.111484</td>\n",
       "      <td>0.888516</td>\n",
       "    </tr>\n",
       "    <tr>\n",
       "      <th>251423</th>\n",
       "      <td>0.504655</td>\n",
       "      <td>0.495345</td>\n",
       "    </tr>\n",
       "    <tr>\n",
       "      <th>283983</th>\n",
       "      <td>0.539228</td>\n",
       "      <td>0.460772</td>\n",
       "    </tr>\n",
       "    <tr>\n",
       "      <th>18146</th>\n",
       "      <td>0.548547</td>\n",
       "      <td>0.451453</td>\n",
       "    </tr>\n",
       "    <tr>\n",
       "      <th>192026</th>\n",
       "      <td>0.234357</td>\n",
       "      <td>0.765643</td>\n",
       "    </tr>\n",
       "  </tbody>\n",
       "</table>\n",
       "<p>16601 rows × 2 columns</p>\n",
       "</div>"
      ],
      "text/plain": [
       "               Churner  Not churner\n",
       "customers_id                       \n",
       "72404         0.245935     0.754065\n",
       "6385          0.520757     0.479243\n",
       "212336        0.280575     0.719425\n",
       "258775        0.229754     0.770246\n",
       "65390         0.361772     0.638228\n",
       "...                ...          ...\n",
       "216278        0.111484     0.888516\n",
       "251423        0.504655     0.495345\n",
       "283983        0.539228     0.460772\n",
       "18146         0.548547     0.451453\n",
       "192026        0.234357     0.765643\n",
       "\n",
       "[16601 rows x 2 columns]"
      ]
     },
     "execution_count": 15,
     "metadata": {},
     "output_type": "execute_result"
    }
   ],
   "source": [
    "proba = pd.DataFrame(LogisticReg.predict_proba(X_test), columns=[\"Churner\", \"Not churner\"], index=test_customers_ids)\n",
    "proba"
   ]
  },
  {
   "cell_type": "markdown",
   "id": "XtHNXxDLfu4k",
   "metadata": {
    "id": "XtHNXxDLfu4k"
   },
   "source": [
    "We can filter this dataframe on customers who have between 20% and 50% probability to re purchase.\n",
    "\n",
    "Customers with a probability of less than 20% to repurchase are considered lost."
   ]
  },
  {
   "cell_type": "code",
   "execution_count": 16,
   "id": "hVHI8QB4hF8z",
   "metadata": {
    "colab": {
     "base_uri": "https://localhost:8080/",
     "height": 455
    },
    "executionInfo": {
     "elapsed": 9,
     "status": "ok",
     "timestamp": 1708610970836,
     "user": {
      "displayName": "Evangelina De Luca",
      "userId": "14686827559106754906"
     },
     "user_tz": -60
    },
    "id": "hVHI8QB4hF8z",
    "outputId": "b3f8320b-1669-4b58-cade-cd9b852b6a94"
   },
   "outputs": [
    {
     "data": {
      "text/html": [
       "<div>\n",
       "<style scoped>\n",
       "    .dataframe tbody tr th:only-of-type {\n",
       "        vertical-align: middle;\n",
       "    }\n",
       "\n",
       "    .dataframe tbody tr th {\n",
       "        vertical-align: top;\n",
       "    }\n",
       "\n",
       "    .dataframe thead th {\n",
       "        text-align: right;\n",
       "    }\n",
       "</style>\n",
       "<table border=\"1\" class=\"dataframe\">\n",
       "  <thead>\n",
       "    <tr style=\"text-align: right;\">\n",
       "      <th></th>\n",
       "      <th>Churner</th>\n",
       "      <th>Not churner</th>\n",
       "    </tr>\n",
       "    <tr>\n",
       "      <th>customers_id</th>\n",
       "      <th></th>\n",
       "      <th></th>\n",
       "    </tr>\n",
       "  </thead>\n",
       "  <tbody>\n",
       "    <tr>\n",
       "      <th>6385</th>\n",
       "      <td>0.520757</td>\n",
       "      <td>0.479243</td>\n",
       "    </tr>\n",
       "    <tr>\n",
       "      <th>260363</th>\n",
       "      <td>0.541923</td>\n",
       "      <td>0.458077</td>\n",
       "    </tr>\n",
       "    <tr>\n",
       "      <th>161347</th>\n",
       "      <td>0.531263</td>\n",
       "      <td>0.468737</td>\n",
       "    </tr>\n",
       "    <tr>\n",
       "      <th>115403</th>\n",
       "      <td>0.518453</td>\n",
       "      <td>0.481547</td>\n",
       "    </tr>\n",
       "    <tr>\n",
       "      <th>226973</th>\n",
       "      <td>0.529875</td>\n",
       "      <td>0.470125</td>\n",
       "    </tr>\n",
       "    <tr>\n",
       "      <th>...</th>\n",
       "      <td>...</td>\n",
       "      <td>...</td>\n",
       "    </tr>\n",
       "    <tr>\n",
       "      <th>27040</th>\n",
       "      <td>0.537627</td>\n",
       "      <td>0.462373</td>\n",
       "    </tr>\n",
       "    <tr>\n",
       "      <th>69883</th>\n",
       "      <td>0.539353</td>\n",
       "      <td>0.460647</td>\n",
       "    </tr>\n",
       "    <tr>\n",
       "      <th>251423</th>\n",
       "      <td>0.504655</td>\n",
       "      <td>0.495345</td>\n",
       "    </tr>\n",
       "    <tr>\n",
       "      <th>283983</th>\n",
       "      <td>0.539228</td>\n",
       "      <td>0.460772</td>\n",
       "    </tr>\n",
       "    <tr>\n",
       "      <th>18146</th>\n",
       "      <td>0.548547</td>\n",
       "      <td>0.451453</td>\n",
       "    </tr>\n",
       "  </tbody>\n",
       "</table>\n",
       "<p>1365 rows × 2 columns</p>\n",
       "</div>"
      ],
      "text/plain": [
       "               Churner  Not churner\n",
       "customers_id                       \n",
       "6385          0.520757     0.479243\n",
       "260363        0.541923     0.458077\n",
       "161347        0.531263     0.468737\n",
       "115403        0.518453     0.481547\n",
       "226973        0.529875     0.470125\n",
       "...                ...          ...\n",
       "27040         0.537627     0.462373\n",
       "69883         0.539353     0.460647\n",
       "251423        0.504655     0.495345\n",
       "283983        0.539228     0.460772\n",
       "18146         0.548547     0.451453\n",
       "\n",
       "[1365 rows x 2 columns]"
      ]
     },
     "execution_count": 16,
     "metadata": {},
     "output_type": "execute_result"
    }
   ],
   "source": [
    "proba[(proba[\"Not churner\"] >= 0.2) & (proba[\"Not churner\"] < 0.5)]"
   ]
  },
  {
   "cell_type": "markdown",
   "id": "nsL4xuuViUtS",
   "metadata": {
    "id": "nsL4xuuViUtS"
   },
   "source": [
    "**You now have a model that predicts churners!**\n",
    "\n",
    "Using this model, suggest a process that can be implemented at GreenWeez to help the company reduce the churn rate.\n"
   ]
  }
 ],
 "metadata": {
  "colab": {
   "provenance": []
  },
  "kernelspec": {
   "display_name": "base",
   "language": "python",
   "name": "python3"
  },
  "language_info": {
   "codemirror_mode": {
    "name": "ipython",
    "version": 3
   },
   "file_extension": ".py",
   "mimetype": "text/x-python",
   "name": "python",
   "nbconvert_exporter": "python",
   "pygments_lexer": "ipython3",
   "version": "3.12.7"
  },
  "toc": {
   "base_numbering": 1,
   "nav_menu": {},
   "number_sections": true,
   "sideBar": true,
   "skip_h1_title": false,
   "title_cell": "Table of Contents",
   "title_sidebar": "Contents",
   "toc_cell": false,
   "toc_position": {},
   "toc_section_display": true,
   "toc_window_display": true
  },
  "varInspector": {
   "cols": {
    "lenName": 16,
    "lenType": 16,
    "lenVar": 40
   },
   "kernels_config": {
    "python": {
     "delete_cmd_postfix": "",
     "delete_cmd_prefix": "del ",
     "library": "var_list.py",
     "varRefreshCmd": "print(var_dic_list())"
    },
    "r": {
     "delete_cmd_postfix": ") ",
     "delete_cmd_prefix": "rm(",
     "library": "var_list.r",
     "varRefreshCmd": "cat(var_dic_list()) "
    }
   },
   "types_to_exclude": [
    "module",
    "function",
    "builtin_function_or_method",
    "instance",
    "_Feature"
   ],
   "window_display": false
  }
 },
 "nbformat": 4,
 "nbformat_minor": 5
}
